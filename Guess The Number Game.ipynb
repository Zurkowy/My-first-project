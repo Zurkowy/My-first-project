{
 "cells": [
  {
   "cell_type": "code",
   "execution_count": 1,
   "metadata": {},
   "outputs": [
    {
     "name": "stdout",
     "output_type": "stream",
     "text": [
      "           Welcome to the \"Guess The Number\" game!\n",
      "                    Choose range values.\n"
     ]
    },
    {
     "name": "stdin",
     "output_type": "stream",
     "text": [
      "Choose lower value:  makaron\n"
     ]
    },
    {
     "name": "stdout",
     "output_type": "stream",
     "text": [
      "\n",
      "                           Warning!\n",
      "Value must be integer!\n"
     ]
    },
    {
     "name": "stdin",
     "output_type": "stream",
     "text": [
      "Choose lower value:  1234,2\n"
     ]
    },
    {
     "name": "stdout",
     "output_type": "stream",
     "text": [
      "\n",
      "                           Warning!\n",
      "Value must be integer!\n"
     ]
    },
    {
     "name": "stdin",
     "output_type": "stream",
     "text": [
      "Choose lower value:  23\n",
      "Choose upper value:  3\n"
     ]
    },
    {
     "name": "stdout",
     "output_type": "stream",
     "text": [
      "\n",
      "                           Warning!\n",
      "Choose a number at least 1 greater than lower!\n"
     ]
    },
    {
     "name": "stdin",
     "output_type": "stream",
     "text": [
      "Choose upper value:  26\n"
     ]
    },
    {
     "name": "stdout",
     "output_type": "stream",
     "text": [
      "                Range of the game is from 23 to 26.\n"
     ]
    },
    {
     "name": "stdin",
     "output_type": "stream",
     "text": [
      "Choose your value:  23\n"
     ]
    },
    {
     "name": "stdout",
     "output_type": "stream",
     "text": [
      "                   Your number is: 23.\n",
      "                   Too low! Try again.\n"
     ]
    },
    {
     "name": "stdin",
     "output_type": "stream",
     "text": [
      "Choose your value:  24\n"
     ]
    },
    {
     "name": "stdout",
     "output_type": "stream",
     "text": [
      "                   Too low! Try again.\n"
     ]
    },
    {
     "name": "stdin",
     "output_type": "stream",
     "text": [
      "Choose your value:  25\n"
     ]
    },
    {
     "name": "stdout",
     "output_type": "stream",
     "text": [
      "\n",
      "                   Congratulations!\n",
      "                        You won!\n",
      "\n",
      "You guessed the number in: 3 tries.\n"
     ]
    }
   ],
   "source": [
    "import random\n",
    "\n",
    "print('Welcome to the \"Guess The Number\" game!'.rjust(50))\n",
    "print('Choose range values.'.rjust(40))\n",
    "   \n",
    "\n",
    "#Wybieranie dolnej wartości przedziału\n",
    "while True:\n",
    "    try:\n",
    "        lower_value = int(input('Choose lower value: '))\n",
    "        if  (lower_value > 0):\n",
    "            break\n",
    "        else:\n",
    "            print()\n",
    "            print('Warning!'.rjust(35) + '\\nChoose positive number!')\n",
    "            continue\n",
    "    except ValueError:\n",
    "        print()\n",
    "        print('Warning!'.rjust(35) + '\\nValue must be integer!')\n",
    "\n",
    "\n",
    "#Wybieranie górnej wartości przedziału\n",
    "while True:\n",
    "    try:\n",
    "        upper_value = int(input(\"Choose upper value: \"))\n",
    "        if (upper_value > lower_value):\n",
    "            break\n",
    "        else:\n",
    "            print()\n",
    "            print('Warning!'.rjust(35) + '\\nChoose a number at least 1 greater than lower!')\n",
    "            continue\n",
    "    except ValueError:\n",
    "        print()\n",
    "        print('Warning!'.rjust(35) + '\\nValue must be integer!')\n",
    "\n",
    "\n",
    "print(('Range of the game is from ' + str(lower_value) + ' to ' + str(upper_value)).rjust(50) + '.')\n",
    "\n",
    "\n",
    "#Wybieranie własnego numeru\n",
    "while True:\n",
    "    try:\n",
    "        guess = int(input('Choose your value: '))\n",
    "        if guess >= lower_value and guess <= upper_value:\n",
    "            print('Your number is: '.rjust(35) + str(guess) + '.')\n",
    "            break\n",
    "        else:\n",
    "            print()\n",
    "            print('Warning!'.rjust(35) + '\\nChoose number in range from: ' + str(lower_value) + ' to ' + str(upper_value) + '.')\n",
    "            continue\n",
    "    except ValueError:\n",
    "        print()\n",
    "        print('Warning!'.rjust(35) + '\\nValue must be integer!')\n",
    "\n",
    "\n",
    "random_number = random.randint(lower_value, upper_value)\n",
    "count_guess = 0\n",
    "\n",
    "\n",
    "#Zgadywanie + liczenie prób\n",
    "while True:  \n",
    "    if guess == random_number:\n",
    "        count_guess += 1\n",
    "        print()\n",
    "        print('Congratulations!'.rjust(35))\n",
    "        print('You won!'.rjust(32))\n",
    "        print()\n",
    "        if count_guess > 1:\n",
    "            print('You guessed the number in: ' + str(count_guess) + ' tries.')\n",
    "        else:\n",
    "            print('You guessed the number in: ' + str(count_guess) + ' try.')\n",
    "        break\n",
    "    elif guess > random_number:\n",
    "        count_guess += 1\n",
    "        print('Too high! Try again.'.rjust(38))\n",
    "        while True:\n",
    "            try:\n",
    "                guess = int(input('Choose your value: '))\n",
    "                if guess >= lower_value and guess <= upper_value:\n",
    "                    break\n",
    "                else:\n",
    "                    print()\n",
    "                    print('Warning!'.rjust(35) + '\\nChoose number in range from: ' + str(lower_value) + ' to ' + str(upper_value) + '.')\n",
    "                    continue\n",
    "            except ValueError:\n",
    "                print()\n",
    "                print('Warning!'.rjust(35) + '\\nValue must be integer!')\n",
    "        continue\n",
    "    elif guess < random_number:\n",
    "        count_guess += 1\n",
    "        print('Too low! Try again.'.rjust(38))\n",
    "        while True:\n",
    "            try:\n",
    "                guess = int(input('Choose your value: '))\n",
    "                if guess >= lower_value and guess <= upper_value:\n",
    "                    break\n",
    "                else:\n",
    "                    print()\n",
    "                    print('Warning!'.rjust(35) + '\\nChoose number in range from: ' + str(lower_value) + ' to ' + str(upper_value) + '.')\n",
    "                    continue\n",
    "            except ValueError:\n",
    "                print()\n",
    "                print('Warning!'.rjust(35) + '\\nValue must be integer!')\n",
    "        continue"
   ]
  },
  {
   "cell_type": "code",
   "execution_count": null,
   "metadata": {},
   "outputs": [],
   "source": []
  },
  {
   "cell_type": "code",
   "execution_count": null,
   "metadata": {},
   "outputs": [],
   "source": []
  },
  {
   "cell_type": "code",
   "execution_count": null,
   "metadata": {},
   "outputs": [],
   "source": []
  },
  {
   "cell_type": "code",
   "execution_count": null,
   "metadata": {},
   "outputs": [],
   "source": []
  },
  {
   "cell_type": "code",
   "execution_count": null,
   "metadata": {},
   "outputs": [],
   "source": []
  },
  {
   "cell_type": "code",
   "execution_count": null,
   "metadata": {},
   "outputs": [],
   "source": []
  }
 ],
 "metadata": {
  "kernelspec": {
   "display_name": "Python 3",
   "language": "python",
   "name": "python3"
  },
  "language_info": {
   "codemirror_mode": {
    "name": "ipython",
    "version": 3
   },
   "file_extension": ".py",
   "mimetype": "text/x-python",
   "name": "python",
   "nbconvert_exporter": "python",
   "pygments_lexer": "ipython3",
   "version": "3.8.5"
  }
 },
 "nbformat": 4,
 "nbformat_minor": 4
}
